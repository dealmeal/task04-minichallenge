{
  "nbformat": 4,
  "nbformat_minor": 0,
  "metadata": {
    "colab": {
      "name": "T4-PMG.ipynb",
      "provenance": [],
      "collapsed_sections": [],
      "mount_file_id": "1wsl2okZIXom83y41J4mqbznvHHb3_ajR",
      "authorship_tag": "ABX9TyNhCKCc/Wvl0fUfKSiIE3El",
      "include_colab_link": true
    },
    "kernelspec": {
      "name": "python3",
      "display_name": "Python 3"
    },
    "accelerator": "GPU"
  },
  "cells": [
    {
      "cell_type": "markdown",
      "metadata": {
        "id": "view-in-github",
        "colab_type": "text"
      },
      "source": [
        "<a href=\"https://colab.research.google.com/github/dealmeal/task04-minichallenge/blob/main/T4_PMG.ipynb\" target=\"_parent\"><img src=\"https://colab.research.google.com/assets/colab-badge.svg\" alt=\"Open In Colab\"/></a>"
      ]
    },
    {
      "cell_type": "markdown",
      "metadata": {
        "id": "KXjtgpk4zy3l"
      },
      "source": [
        "Tarefa 4 - Picnic, meeting and graduation\n",
        "\n",
        "Inspirado em\n",
        "https://medium.com/@vijayabhaskar96/tutorial-on-keras-flow-from-dataframe-1fd4493d237c\n"
      ]
    },
    {
      "cell_type": "code",
      "metadata": {
        "id": "yotMInw4P3-R"
      },
      "source": [
        "!pip install unrar\n",
        "!unrar x \"/content/drive/My Drive/Mestrado/Disciplinas/DeepLearning/Tarefas/T04-PMG/data_folder.rar\""
      ],
      "execution_count": null,
      "outputs": []
    },
    {
      "cell_type": "code",
      "metadata": {
        "id": "tnLFJ_127WT2"
      },
      "source": [
        "#DEFINIÇÕES\n",
        "target_size = 256\n",
        "batch_size = 16\n",
        "num_classes = 3"
      ],
      "execution_count": null,
      "outputs": []
    },
    {
      "cell_type": "code",
      "metadata": {
        "id": "8LgWCt_st28K"
      },
      "source": [
        "import numpy as np #algebra linear\n",
        "import pandas as pd #processamento de dados\n",
        "import tensorflow as tf #backend que roda sob o Keras\n",
        "from tensorflow import keras #Keras está sendo incorporado ao Tensorflow"
      ],
      "execution_count": null,
      "outputs": []
    },
    {
      "cell_type": "code",
      "metadata": {
        "id": "tKXDy0Ec7HKX"
      },
      "source": [
        "from keras.layers import Flatten # 'aplaina' os dados em uma dimensão para uso em Dense.\n",
        "from keras.layers import Dense # todos as entradas se conectam aos neurônios e devem ser 1D\n",
        "from keras.layers import Conv2D # Camada convolucional\n",
        "from keras.layers import MaxPooling2D # Reduz a quantidade de pixels deixando apenas as informações mais relevantes\n",
        "from keras.layers import Dropout # remove alguns neurônios para evitar overfitting\n",
        "from keras.layers import BatchNormalization # Normaliza os lotes. Para quê?\n",
        "from keras.models import Sequential # modelo sequencial de rede neural\n",
        "\n",
        "from keras import regularizers, optimizers\n",
        "\n",
        "from sklearn.model_selection import train_test_split\n",
        "from sklearn.metrics import confusion_matrix, classification_report\n",
        "\n",
        "from keras_preprocessing.image import ImageDataGenerator # para usar flow_from_dataframe\n",
        "\n",
        "import matplotlib.pyplot as plt # recursos de plotagem\n",
        "\n",
        "import seaborn as sns; sns.set_theme()\n"
      ],
      "execution_count": null,
      "outputs": []
    },
    {
      "cell_type": "markdown",
      "metadata": {
        "id": "WJEu6FvugbaM"
      },
      "source": [
        "Tentativa de construir generators de imagens que estão todos em um diretório mapeadas por csv file."
      ]
    },
    {
      "cell_type": "code",
      "metadata": {
        "id": "_P2hc9pdgZqG",
        "outputId": "2af4e496-eecb-4924-954c-d20904307ae8",
        "colab": {
          "base_uri": "https://localhost:8080/",
          "height": 67
        }
      },
      "source": [
        "df = pd.read_csv(\"/content/drive/My Drive/Mestrado/Disciplinas/DeepLearning/Tarefas/T04-PMG/dataset_images_minitest.csv\")\n",
        "\n",
        "#distribuição global dos dados\n",
        "#60% treino, 20% validação, 20% teste - total = 20987 imagens\n",
        "\n",
        "train_df, test_df = train_test_split(df, test_size=0.2005, random_state=42)\n",
        "train_df = train_df.reset_index(drop=True) # dados de treino e validação - 80%\n",
        "test_df = test_df.reset_index(drop=True) # dados de teste após treino - 20%\n",
        "\n",
        "# configuração do aumengtation do dataset de treino e validação\n",
        "# Mas quantas imagens modificadas serão geradas?\n",
        "train_valid_datagen = ImageDataGenerator(\n",
        "    validation_split=0.25, # 25% de 80% será destinado à validação durante o treinamento\n",
        "    rotation_range=15,\n",
        "    rescale=1./255,\n",
        "    shear_range=0.1,\n",
        "    zoom_range=0.2,\n",
        "    horizontal_flip=True,\n",
        "    width_shift_range=0.1,\n",
        "    height_shift_range=0.1,\n",
        "    #fill_mode='constant', cval=0 # preencher com zeros\n",
        "    )\n",
        "\n",
        "#dados de treino - 12585 imagens\n",
        "train_generator = train_valid_datagen.flow_from_dataframe(\n",
        "    train_df, \n",
        "    \"data_folder/\", \n",
        "    subset = 'training',\n",
        "    x_col='filename',\n",
        "    y_col='category',\n",
        "    target_size=(target_size,target_size),\n",
        "    class_mode='categorical',\n",
        "    batch_size=batch_size,\n",
        "    validate_filenames=False #os nomes são todos válidos - economiza cálculos\n",
        ")\n",
        "\n",
        "#dados de validação - 4194 imagens\n",
        "valid_generator = train_valid_datagen.flow_from_dataframe(\n",
        "    train_df, \n",
        "    \"data_folder/\", \n",
        "    subset = 'validation',\n",
        "    x_col='filename',\n",
        "    y_col='category',\n",
        "    target_size=(target_size,target_size),\n",
        "    class_mode='categorical',\n",
        "    batch_size=batch_size,\n",
        "    validate_filenames=False #os nomes são todos válidos - economiza cálculos\n",
        ")\n",
        "\n",
        "#configuração do aumengtation do dataset de teste\n",
        "test_datagen = ImageDataGenerator(\n",
        "    rescale=1./255,\n",
        "    #fill_mode='constant', cval=0 # preencher com zeros\n",
        "    )\n",
        "\n",
        "# dados de teste - 4208 imagens em 263 lotes de 16 imagens\n",
        "# segundo Vijayabhaskar J precisa ser divisão inteira\n",
        "test_generator = test_datagen.flow_from_dataframe(\n",
        "    test_df, \n",
        "    \"data_folder/\", \n",
        "    x_col='filename',\n",
        "    y_col='category',\n",
        "    target_size=(target_size,target_size),\n",
        "    class_mode='categorical',\n",
        "    batch_size=16,\n",
        "    shuffle = False,\n",
        "    validate_filenames=False #os nomes são todos válidos - economiza cálculos\n",
        ")\n",
        "\n",
        "class_names = list(valid_generator.class_indices.keys())"
      ],
      "execution_count": null,
      "outputs": [
        {
          "output_type": "stream",
          "text": [
            "Found 12585 non-validated image filenames belonging to 3 classes.\n",
            "Found 4194 non-validated image filenames belonging to 3 classes.\n",
            "Found 4208 non-validated image filenames belonging to 3 classes.\n"
          ],
          "name": "stdout"
        }
      ]
    },
    {
      "cell_type": "code",
      "metadata": {
        "id": "mGXT047aYwGr",
        "outputId": "a2bb3ad8-7f58-455c-d43c-e098bef6446a",
        "colab": {
          "base_uri": "https://localhost:8080/",
          "height": 554
        }
      },
      "source": [
        "model = Sequential() # modelo sequencial\n",
        "\n",
        "#Primeiro grupo de camadas\n",
        "model.add(Conv2D(32, kernel_size=(3,3), padding='same',\n",
        "                 activation='relu',\n",
        "                 input_shape = (target_size,target_size,3))) # largura, altura, canais\n",
        "model.add(Conv2D(32,(3,3),activation='relu'))\n",
        "#model.add(BatchNormalization())\n",
        "model.add(MaxPooling2D(pool_size=(3,3)))\n",
        "model.add(Dropout(0.25))\n",
        "\n",
        "#Segundo grupo de camadas\n",
        "model.add(Conv2D(64, kernel_size=(3,3), padding='same',\n",
        "                 activation='relu',))\n",
        "model.add(Conv2D(128,(3,3),activation='relu'))\n",
        "#model.add(BatchNormalization())\n",
        "model.add(MaxPooling2D(pool_size=(3,3)))\n",
        "model.add(Dropout(0.25))\n",
        "\n",
        "#Quarto grupo de camadas\n",
        "model.add(Flatten())\n",
        "model.add(Dense(512,activation='relu')) # todas as entradas são conectadas aos 512 neurônios\n",
        "model.add(Dropout(0.5))\n",
        "model.add(Dense(num_classes, activation='softmax')) # 512 entradas conectadas em num_classes neurônios\n",
        "\n",
        "model.summary()"
      ],
      "execution_count": null,
      "outputs": [
        {
          "output_type": "stream",
          "text": [
            "Model: \"sequential\"\n",
            "_________________________________________________________________\n",
            "Layer (type)                 Output Shape              Param #   \n",
            "=================================================================\n",
            "conv2d (Conv2D)              (None, 256, 256, 32)      896       \n",
            "_________________________________________________________________\n",
            "conv2d_1 (Conv2D)            (None, 254, 254, 32)      9248      \n",
            "_________________________________________________________________\n",
            "max_pooling2d (MaxPooling2D) (None, 84, 84, 32)        0         \n",
            "_________________________________________________________________\n",
            "dropout (Dropout)            (None, 84, 84, 32)        0         \n",
            "_________________________________________________________________\n",
            "conv2d_2 (Conv2D)            (None, 84, 84, 64)        18496     \n",
            "_________________________________________________________________\n",
            "conv2d_3 (Conv2D)            (None, 82, 82, 128)       73856     \n",
            "_________________________________________________________________\n",
            "max_pooling2d_1 (MaxPooling2 (None, 27, 27, 128)       0         \n",
            "_________________________________________________________________\n",
            "dropout_1 (Dropout)          (None, 27, 27, 128)       0         \n",
            "_________________________________________________________________\n",
            "flatten (Flatten)            (None, 93312)             0         \n",
            "_________________________________________________________________\n",
            "dense (Dense)                (None, 512)               47776256  \n",
            "_________________________________________________________________\n",
            "dropout_2 (Dropout)          (None, 512)               0         \n",
            "_________________________________________________________________\n",
            "dense_1 (Dense)              (None, 3)                 1539      \n",
            "=================================================================\n",
            "Total params: 47,880,291\n",
            "Trainable params: 47,880,291\n",
            "Non-trainable params: 0\n",
            "_________________________________________________________________\n"
          ],
          "name": "stdout"
        }
      ]
    },
    {
      "cell_type": "markdown",
      "metadata": {
        "id": "dvsCOCdi4jdb"
      },
      "source": [
        "Foram rodados modelos com batch normalization, tamanhos maiores e retangulares de kernel das camadas de convolução, bem como aumento das camadas de convolução e variação no número de filtros, além de variação dos steps/batches de fitting. O melhor resultado é o apresentado aqui."
      ]
    },
    {
      "cell_type": "code",
      "metadata": {
        "id": "egaimjpJyLF6"
      },
      "source": [
        "model.compile(optimizer=optimizers.RMSprop(learning_rate=0.0001,epsilon=1e-6),\n",
        "              loss='categorical_crossentropy',\n",
        "              metrics='accuracy')"
      ],
      "execution_count": null,
      "outputs": []
    },
    {
      "cell_type": "code",
      "metadata": {
        "id": "Zmm5htwd0IYG",
        "outputId": "67a21404-76f6-43b7-9d32-3adeec8e2acb",
        "colab": {
          "base_uri": "https://localhost:8080/",
          "height": 776
        }
      },
      "source": [
        "STEP_SIZE_TRAIN = 1*train_generator.n//train_generator.batch_size\n",
        "STEP_SIZE_VALID = 1*valid_generator.n//valid_generator.batch_size\n",
        "STEP_SIZE_TEST = test_generator.n//test_generator.batch_size\n",
        "\n",
        "history = model.fit_generator(train_generator,                    \n",
        "                    steps_per_epoch = STEP_SIZE_TRAIN,\n",
        "                    validation_data=valid_generator,\n",
        "                    validation_steps=STEP_SIZE_VALID,\n",
        "                    epochs=20)"
      ],
      "execution_count": null,
      "outputs": [
        {
          "output_type": "stream",
          "text": [
            "WARNING:tensorflow:From <ipython-input-8-35afd34c8101>:9: Model.fit_generator (from tensorflow.python.keras.engine.training) is deprecated and will be removed in a future version.\n",
            "Instructions for updating:\n",
            "Please use Model.fit, which supports generators.\n",
            "Epoch 1/20\n",
            "  2/786 [..............................] - ETA: 28s - loss: 5.2038 - accuracy: 0.1875WARNING:tensorflow:Callbacks method `on_train_batch_end` is slow compared to the batch time (batch time: 0.0241s vs `on_train_batch_end` time: 0.0493s). Check your callbacks.\n",
            "786/786 [==============================] - 283s 360ms/step - loss: 1.0101 - accuracy: 0.4972 - val_loss: 0.9018 - val_accuracy: 0.6073\n",
            "Epoch 2/20\n",
            "786/786 [==============================] - 283s 360ms/step - loss: 0.8849 - accuracy: 0.5928 - val_loss: 0.8630 - val_accuracy: 0.6097\n",
            "Epoch 3/20\n",
            "786/786 [==============================] - 283s 360ms/step - loss: 0.8501 - accuracy: 0.6183 - val_loss: 0.9489 - val_accuracy: 0.5422\n",
            "Epoch 4/20\n",
            "786/786 [==============================] - 283s 360ms/step - loss: 0.8301 - accuracy: 0.6323 - val_loss: 0.8131 - val_accuracy: 0.6543\n",
            "Epoch 5/20\n",
            "786/786 [==============================] - 283s 360ms/step - loss: 0.8151 - accuracy: 0.6456 - val_loss: 0.7995 - val_accuracy: 0.6562\n",
            "Epoch 6/20\n",
            "786/786 [==============================] - 283s 360ms/step - loss: 0.8054 - accuracy: 0.6538 - val_loss: 0.8024 - val_accuracy: 0.6469\n",
            "Epoch 7/20\n",
            "786/786 [==============================] - 283s 360ms/step - loss: 0.8021 - accuracy: 0.6552 - val_loss: 0.7938 - val_accuracy: 0.6565\n",
            "Epoch 8/20\n",
            "786/786 [==============================] - 283s 360ms/step - loss: 0.7930 - accuracy: 0.6600 - val_loss: 0.8175 - val_accuracy: 0.6465\n",
            "Epoch 9/20\n",
            "786/786 [==============================] - 282s 359ms/step - loss: 0.7903 - accuracy: 0.6638 - val_loss: 0.7899 - val_accuracy: 0.6577\n",
            "Epoch 10/20\n",
            "786/786 [==============================] - 283s 360ms/step - loss: 0.7876 - accuracy: 0.6639 - val_loss: 0.7892 - val_accuracy: 0.6531\n",
            "Epoch 11/20\n",
            "786/786 [==============================] - 283s 360ms/step - loss: 0.7878 - accuracy: 0.6648 - val_loss: 0.8025 - val_accuracy: 0.6548\n",
            "Epoch 12/20\n",
            "786/786 [==============================] - 282s 359ms/step - loss: 0.7793 - accuracy: 0.6711 - val_loss: 0.7942 - val_accuracy: 0.6539\n",
            "Epoch 13/20\n",
            "786/786 [==============================] - 282s 359ms/step - loss: 0.7819 - accuracy: 0.6654 - val_loss: 0.7889 - val_accuracy: 0.6672\n",
            "Epoch 14/20\n",
            "786/786 [==============================] - 282s 359ms/step - loss: 0.7778 - accuracy: 0.6726 - val_loss: 0.8129 - val_accuracy: 0.6357\n",
            "Epoch 15/20\n",
            "786/786 [==============================] - 283s 359ms/step - loss: 0.7796 - accuracy: 0.6666 - val_loss: 0.8050 - val_accuracy: 0.6632\n",
            "Epoch 16/20\n",
            "786/786 [==============================] - 283s 359ms/step - loss: 0.7703 - accuracy: 0.6759 - val_loss: 0.8121 - val_accuracy: 0.6646\n",
            "Epoch 17/20\n",
            "786/786 [==============================] - 282s 359ms/step - loss: 0.7728 - accuracy: 0.6745 - val_loss: 0.8067 - val_accuracy: 0.6450\n",
            "Epoch 18/20\n",
            "786/786 [==============================] - 282s 359ms/step - loss: 0.7763 - accuracy: 0.6725 - val_loss: 0.7706 - val_accuracy: 0.6799\n",
            "Epoch 19/20\n",
            "786/786 [==============================] - 282s 359ms/step - loss: 0.7790 - accuracy: 0.6715 - val_loss: 0.7642 - val_accuracy: 0.6846\n",
            "Epoch 20/20\n",
            "786/786 [==============================] - 282s 358ms/step - loss: 0.7678 - accuracy: 0.6775 - val_loss: 0.7918 - val_accuracy: 0.6605\n"
          ],
          "name": "stdout"
        }
      ]
    },
    {
      "cell_type": "code",
      "metadata": {
        "id": "be_4jIsO1iAS",
        "outputId": "30e8dfa2-9009-4804-c93c-f1294e9f75ff",
        "colab": {
          "base_uri": "https://localhost:8080/",
          "height": 154
        }
      },
      "source": [
        "# DADOS PARA AVALIAÇÃO DE DESEMPENHO\n",
        "\n",
        "pred_temp = model.predict_generator(generator=test_generator,\n",
        "                                     steps=STEP_SIZE_TEST)\n",
        "prediction = np.argmax(pred_temp,axis=1) # CUIDADO - não pode usar o mesmo nome da saída como argumento\n",
        "\n",
        "report = classification_report(test_generator.classes, prediction,\n",
        "                            target_names=class_names)\n",
        "\n",
        "matrix = confusion_matrix(test_generator.classes, list(prediction))\n",
        "\n",
        "model.evaluate_generator(generator=test_generator, steps=STEP_SIZE_TEST)"
      ],
      "execution_count": null,
      "outputs": [
        {
          "output_type": "stream",
          "text": [
            "WARNING:tensorflow:From <ipython-input-9-a5a52e39b436>:4: Model.predict_generator (from tensorflow.python.keras.engine.training) is deprecated and will be removed in a future version.\n",
            "Instructions for updating:\n",
            "Please use Model.predict, which supports generators.\n",
            "WARNING:tensorflow:From <ipython-input-9-a5a52e39b436>:12: Model.evaluate_generator (from tensorflow.python.keras.engine.training) is deprecated and will be removed in a future version.\n",
            "Instructions for updating:\n",
            "Please use Model.evaluate, which supports generators.\n"
          ],
          "name": "stdout"
        },
        {
          "output_type": "execute_result",
          "data": {
            "text/plain": [
              "[0.7878401279449463, 0.6504277586936951]"
            ]
          },
          "metadata": {
            "tags": []
          },
          "execution_count": 9
        }
      ]
    },
    {
      "cell_type": "code",
      "metadata": {
        "id": "GAO6WzNkdlLI",
        "outputId": "d57a5f85-d8bd-4815-ffeb-e39d11556d9a",
        "colab": {
          "base_uri": "https://localhost:8080/",
          "height": 1000
        }
      },
      "source": [
        "# gráfico de acurácia por época\n",
        "plt.plot(history.history['accuracy'])\n",
        "plt.plot(history.history['val_accuracy'])\n",
        "plt.title('model accuracy', color='cyan')\n",
        "plt.ylabel('accuracy', color='cyan')\n",
        "plt.xlabel('epoch', color='cyan')\n",
        "plt.legend(['train','validation'],loc='upper left')\n",
        "plt.show()\n",
        "\n",
        "# gráfico de loss por época\n",
        "plt.plot(history.history['loss'])\n",
        "plt.plot(history.history['val_accuracy'])\n",
        "plt.title('model loss', color='cyan')\n",
        "plt.ylabel('loss', color='cyan')\n",
        "plt.xlabel('epoch', color='cyan')\n",
        "plt.legend(['train','validation'],loc='upper left')\n",
        "plt.show()\n",
        "\n",
        "# Matriz de Confusão e relatório de classificação\n",
        "print(\"\\nClassification Report\")\n",
        "print(report)\n",
        "\n",
        "\n",
        "print(\"\\nConfusion Matrix\")\n",
        "print(matrix)\n",
        "print(\"\\nHeatmap\\n\")\n",
        "\n",
        "sns.heatmap(matrix, cmap=\"Blues\", xticklabels=class_names, yticklabels=class_names)\n",
        "\n"
      ],
      "execution_count": null,
      "outputs": [
        {
          "output_type": "display_data",
          "data": {
            "image/png": "[encoded data removed]",
            "text/plain": [
              "<Figure size 432x288 with 1 Axes>"
            ]
          },
          "metadata": {
            "tags": []
          }
        },
        {
          "output_type": "display_data",
          "data": {
            "image/png": "[encoded data removed]",
            "text/plain": [
              "<Figure size 432x288 with 1 Axes>"
            ]
          },
          "metadata": {
            "tags": []
          }
        },
        {
          "output_type": "stream",
          "text": [
            "\n",
            "Classification Report\n",
            "              precision    recall  f1-score   support\n",
            "\n",
            "  graduation       0.70      0.54      0.61      1413\n",
            "     meeting       0.67      0.59      0.63      1410\n",
            "      picnic       0.61      0.83      0.70      1385\n",
            "\n",
            "    accuracy                           0.65      4208\n",
            "   macro avg       0.66      0.65      0.65      4208\n",
            "weighted avg       0.66      0.65      0.65      4208\n",
            "\n",
            "\n",
            "Confusion Matrix\n",
            "[[ 764  262  387]\n",
            " [ 237  827  346]\n",
            " [  95  144 1146]]\n",
            "\n",
            "Heatmap\n",
            "\n"
          ],
          "name": "stdout"
        },
        {
          "output_type": "execute_result",
          "data": {
            "text/plain": [
              "<matplotlib.axes._subplots.AxesSubplot at 0x7f871c10a198>"
            ]
          },
          "metadata": {
            "tags": []
          },
          "execution_count": 10
        },
        {
          "output_type": "display_data",
          "data": {
            "image/png": "[encoded data removed]",
            "text/plain": [
              "<Figure size 432x288 with 2 Axes>"
            ]
          },
          "metadata": {
            "tags": []
          }
        }
      ]
    }
  ]
}